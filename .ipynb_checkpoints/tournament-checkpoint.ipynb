{
 "cells": [
  {
   "cell_type": "code",
   "execution_count": 1,
   "metadata": {},
   "outputs": [],
   "source": [
    "import itertools\n",
    "from parlay_system import *"
   ]
  },
  {
   "cell_type": "code",
   "execution_count": 2,
   "metadata": {},
   "outputs": [],
   "source": [
    "vcu8 =  MoneyLine(event=\"vcu8\", bet_amount=100, odds=-114)\n",
    "ucf9 =  MoneyLine(event=\"ncccentral16\", bet_amount=100, odds=-104)\n",
    "\n",
    "virginiatech4 = MoneyLine(event=\"virginiatech4\", bet_amount=100, odds=-530)\n",
    "stlouis13 = MoneyLine(event=\"stlouis13\", bet_amount=100, odds=410)\n",
    "\n",
    "missst5 = MoneyLine(event=\"missst5\", bet_amount=100, odds=-345)\n",
    "liberty12 = MoneyLine(event=\"liberty12\", bet_amount=100, odds=280)\n",
    "\n",
    "michigan2 = MoneyLine(event=\"michigan2\", bet_amount=100, odds=-2500)\n",
    "bradley15 = MoneyLine(event=\"bradley15\", bet_amount=100, odds=1300)\n",
    "\n",
    "louisville7 = MoneyLine(event=\"louisville7\", bet_amount=100, odds=-225)\n",
    "minnesota10 = MoneyLine(event=\"minnesota10\", bet_amount=100, odds=185)\n",
    "\n",
    "lsu3 = MoneyLine(event=\"lsu3\", bet_amount=100, odds=-335)\n",
    "yale14 = MoneyLine(event=\"yale14\", bet_amount=100, odds=275)\n",
    "\n",
    "# maryland6 = MoneyLine(event=\"maryland6\", bet_amount=100, odds=220)\n",
    "# belmont11 = MoneyLine(event=\"belmont11\", bet_amount=100, odds=220)\n",
    "\n",
    "east_region_binaries = [\n",
    "    [vcu8, ucf9],\n",
    "    [virginiatech4, stlouis13],\n",
    "    [missst5,liberty12],\n",
    "    [michigan2, bradley15],\n",
    "    [louisville7, minnesota10],\n",
    "    [lsu3, yale14],\n",
    "]"
   ]
  },
  {
   "cell_type": "code",
   "execution_count": 13,
   "metadata": {},
   "outputs": [],
   "source": [
    "def findsubsets(s, n):\n",
    "    return list(itertools.combinations(s, n))\n",
    "\n",
    "TOURNEY_SIZE = len(east_region_binaries)\n",
    "SELECT_NUM = 3\n",
    "s = set()\n",
    "n = SELECT_NUM\n",
    "\n",
    "for i in range(TOURNEY_SIZE):\n",
    "    s.add(i)\n",
    "\n",
    "all_subsets = findsubsets(s, n)"
   ]
  },
  {
   "cell_type": "code",
   "execution_count": 14,
   "metadata": {},
   "outputs": [
    {
     "data": {
      "text/plain": [
       "[(0, 1, 2),\n",
       " (0, 1, 3),\n",
       " (0, 1, 4),\n",
       " (0, 1, 5),\n",
       " (0, 2, 3),\n",
       " (0, 2, 4),\n",
       " (0, 2, 5),\n",
       " (0, 3, 4),\n",
       " (0, 3, 5),\n",
       " (0, 4, 5),\n",
       " (1, 2, 3),\n",
       " (1, 2, 4),\n",
       " (1, 2, 5),\n",
       " (1, 3, 4),\n",
       " (1, 3, 5),\n",
       " (1, 4, 5),\n",
       " (2, 3, 4),\n",
       " (2, 3, 5),\n",
       " (2, 4, 5),\n",
       " (3, 4, 5)]"
      ]
     },
     "execution_count": 14,
     "metadata": {},
     "output_type": "execute_result"
    }
   ],
   "source": [
    "all_subsets"
   ]
  },
  {
   "cell_type": "code",
   "execution_count": 17,
   "metadata": {},
   "outputs": [
    {
     "name": "stdout",
     "output_type": "stream",
     "text": [
      "(0, 1, 2)\n",
      "[[<classes.MoneyLine object at 0x10c5a2750>, <classes.MoneyLine object at 0x11c377bd0>], [<classes.MoneyLine object at 0x11c377c10>, <classes.MoneyLine object at 0x11c377c90>], [<classes.MoneyLine object at 0x11c377d10>, <classes.MoneyLine object at 0x11c377d50>]]\n",
      "(0, 1, 3)\n",
      "[[<classes.MoneyLine object at 0x10c5a2750>, <classes.MoneyLine object at 0x11c377bd0>], [<classes.MoneyLine object at 0x11c377c10>, <classes.MoneyLine object at 0x11c377c90>], [<classes.MoneyLine object at 0x11c377dd0>, <classes.MoneyLine object at 0x11c377d90>]]\n",
      "(0, 1, 4)\n",
      "[[<classes.MoneyLine object at 0x10c5a2750>, <classes.MoneyLine object at 0x11c377bd0>], [<classes.MoneyLine object at 0x11c377c10>, <classes.MoneyLine object at 0x11c377c90>], [<classes.MoneyLine object at 0x11c377e50>, <classes.MoneyLine object at 0x11c377e10>]]\n",
      "(0, 1, 5)\n",
      "[[<classes.MoneyLine object at 0x10c5a2750>, <classes.MoneyLine object at 0x11c377bd0>], [<classes.MoneyLine object at 0x11c377c10>, <classes.MoneyLine object at 0x11c377c90>], [<classes.MoneyLine object at 0x11c377ed0>, <classes.MoneyLine object at 0x11c377e90>]]\n",
      "(0, 2, 3)\n",
      "[[<classes.MoneyLine object at 0x10c5a2750>, <classes.MoneyLine object at 0x11c377bd0>], [<classes.MoneyLine object at 0x11c377d10>, <classes.MoneyLine object at 0x11c377d50>], [<classes.MoneyLine object at 0x11c377dd0>, <classes.MoneyLine object at 0x11c377d90>]]\n",
      "(0, 2, 4)\n",
      "[[<classes.MoneyLine object at 0x10c5a2750>, <classes.MoneyLine object at 0x11c377bd0>], [<classes.MoneyLine object at 0x11c377d10>, <classes.MoneyLine object at 0x11c377d50>], [<classes.MoneyLine object at 0x11c377e50>, <classes.MoneyLine object at 0x11c377e10>]]\n",
      "(0, 2, 5)\n",
      "[[<classes.MoneyLine object at 0x10c5a2750>, <classes.MoneyLine object at 0x11c377bd0>], [<classes.MoneyLine object at 0x11c377d10>, <classes.MoneyLine object at 0x11c377d50>], [<classes.MoneyLine object at 0x11c377ed0>, <classes.MoneyLine object at 0x11c377e90>]]\n",
      "(0, 3, 4)\n",
      "[[<classes.MoneyLine object at 0x10c5a2750>, <classes.MoneyLine object at 0x11c377bd0>], [<classes.MoneyLine object at 0x11c377dd0>, <classes.MoneyLine object at 0x11c377d90>], [<classes.MoneyLine object at 0x11c377e50>, <classes.MoneyLine object at 0x11c377e10>]]\n",
      "(0, 3, 5)\n",
      "[[<classes.MoneyLine object at 0x10c5a2750>, <classes.MoneyLine object at 0x11c377bd0>], [<classes.MoneyLine object at 0x11c377dd0>, <classes.MoneyLine object at 0x11c377d90>], [<classes.MoneyLine object at 0x11c377ed0>, <classes.MoneyLine object at 0x11c377e90>]]\n",
      "(0, 4, 5)\n",
      "[[<classes.MoneyLine object at 0x10c5a2750>, <classes.MoneyLine object at 0x11c377bd0>], [<classes.MoneyLine object at 0x11c377e50>, <classes.MoneyLine object at 0x11c377e10>], [<classes.MoneyLine object at 0x11c377ed0>, <classes.MoneyLine object at 0x11c377e90>]]\n",
      "(1, 2, 3)\n",
      "[[<classes.MoneyLine object at 0x11c377c10>, <classes.MoneyLine object at 0x11c377c90>], [<classes.MoneyLine object at 0x11c377d10>, <classes.MoneyLine object at 0x11c377d50>], [<classes.MoneyLine object at 0x11c377dd0>, <classes.MoneyLine object at 0x11c377d90>]]\n",
      "(1, 2, 4)\n",
      "[[<classes.MoneyLine object at 0x11c377c10>, <classes.MoneyLine object at 0x11c377c90>], [<classes.MoneyLine object at 0x11c377d10>, <classes.MoneyLine object at 0x11c377d50>], [<classes.MoneyLine object at 0x11c377e50>, <classes.MoneyLine object at 0x11c377e10>]]\n",
      "(1, 2, 5)\n",
      "[[<classes.MoneyLine object at 0x11c377c10>, <classes.MoneyLine object at 0x11c377c90>], [<classes.MoneyLine object at 0x11c377d10>, <classes.MoneyLine object at 0x11c377d50>], [<classes.MoneyLine object at 0x11c377ed0>, <classes.MoneyLine object at 0x11c377e90>]]\n",
      "(1, 3, 4)\n",
      "[[<classes.MoneyLine object at 0x11c377c10>, <classes.MoneyLine object at 0x11c377c90>], [<classes.MoneyLine object at 0x11c377dd0>, <classes.MoneyLine object at 0x11c377d90>], [<classes.MoneyLine object at 0x11c377e50>, <classes.MoneyLine object at 0x11c377e10>]]\n",
      "(1, 3, 5)\n",
      "[[<classes.MoneyLine object at 0x11c377c10>, <classes.MoneyLine object at 0x11c377c90>], [<classes.MoneyLine object at 0x11c377dd0>, <classes.MoneyLine object at 0x11c377d90>], [<classes.MoneyLine object at 0x11c377ed0>, <classes.MoneyLine object at 0x11c377e90>]]\n",
      "(1, 4, 5)\n",
      "[[<classes.MoneyLine object at 0x11c377c10>, <classes.MoneyLine object at 0x11c377c90>], [<classes.MoneyLine object at 0x11c377e50>, <classes.MoneyLine object at 0x11c377e10>], [<classes.MoneyLine object at 0x11c377ed0>, <classes.MoneyLine object at 0x11c377e90>]]\n",
      "(2, 3, 4)\n",
      "[[<classes.MoneyLine object at 0x11c377d10>, <classes.MoneyLine object at 0x11c377d50>], [<classes.MoneyLine object at 0x11c377dd0>, <classes.MoneyLine object at 0x11c377d90>], [<classes.MoneyLine object at 0x11c377e50>, <classes.MoneyLine object at 0x11c377e10>]]\n",
      "(2, 3, 5)\n",
      "[[<classes.MoneyLine object at 0x11c377d10>, <classes.MoneyLine object at 0x11c377d50>], [<classes.MoneyLine object at 0x11c377dd0>, <classes.MoneyLine object at 0x11c377d90>], [<classes.MoneyLine object at 0x11c377ed0>, <classes.MoneyLine object at 0x11c377e90>]]\n",
      "(2, 4, 5)\n",
      "[[<classes.MoneyLine object at 0x11c377d10>, <classes.MoneyLine object at 0x11c377d50>], [<classes.MoneyLine object at 0x11c377e50>, <classes.MoneyLine object at 0x11c377e10>], [<classes.MoneyLine object at 0x11c377ed0>, <classes.MoneyLine object at 0x11c377e90>]]\n",
      "(3, 4, 5)\n",
      "[[<classes.MoneyLine object at 0x11c377dd0>, <classes.MoneyLine object at 0x11c377d90>], [<classes.MoneyLine object at 0x11c377e50>, <classes.MoneyLine object at 0x11c377e10>], [<classes.MoneyLine object at 0x11c377ed0>, <classes.MoneyLine object at 0x11c377e90>]]\n"
     ]
    }
   ],
   "source": [
    "csv = []\n",
    "for i in range(len(all_subsets)):\n",
    "    current_subset = all_subsets[i]\n",
    "    parlay_binaries = []\n",
    "    print(current_subset)\n",
    "    \n",
    "    for i in current_subset:\n",
    "        parlay_binaries.append(east_region_binaries[i])\n",
    "        \n",
    "    ps = ParlaySystem(binaries=parlay_binaries,\n",
    "                    target_profit=1.2,\n",
    "                    bounds=(0.01, 30),\n",
    "                    index_arr=list(current_subset)\n",
    "                    )\n",
    "    tmp_res = ps.slsqp_solver()\n",
    "    csv.append(tmp_res)"
   ]
  },
  {
   "cell_type": "code",
   "execution_count": null,
   "metadata": {},
   "outputs": [],
   "source": []
  }
 ],
 "metadata": {
  "kernelspec": {
   "display_name": "Python 3",
   "language": "python",
   "name": "python3"
  },
  "language_info": {
   "codemirror_mode": {
    "name": "ipython",
    "version": 3
   },
   "file_extension": ".py",
   "mimetype": "text/x-python",
   "name": "python",
   "nbconvert_exporter": "python",
   "pygments_lexer": "ipython3",
   "version": "3.7.5"
  }
 },
 "nbformat": 4,
 "nbformat_minor": 2
}
