{
 "cells": [
  {
   "cell_type": "code",
   "execution_count": 1,
   "metadata": {},
   "outputs": [],
   "source": [
    "from parlay_system import *"
   ]
  },
  {
   "cell_type": "markdown",
   "metadata": {},
   "source": [
    "# Creating a MoneyLine object\n",
    "A moneyline is represented as either a positive or a negative number"
   ]
  },
  {
   "cell_type": "markdown",
   "metadata": {},
   "source": [
    "### Positive MoneyLine\n",
    "Positive moneyline returns represent the underdog if the odds are +165 that means that you bet 100 to win  165 for a total return of 265. This can be calculated as follows:"
   ]
  },
  {
   "cell_type": "markdown",
   "metadata": {},
   "source": [
    "#### Calculating profit"
   ]
  },
  {
   "cell_type": "markdown",
   "metadata": {},
   "source": [
    "$ profit = BET * \\frac{ODDS}{100} $"
   ]
  },
  {
   "cell_type": "markdown",
   "metadata": {},
   "source": [
    "$ profit = 100 * \\frac{165}{100} $"
   ]
  },
  {
   "cell_type": "markdown",
   "metadata": {},
   "source": [
    "$ profit = 165 $"
   ]
  },
  {
   "cell_type": "markdown",
   "metadata": {},
   "source": [
    "#### Calculating payout"
   ]
  },
  {
   "cell_type": "markdown",
   "metadata": {},
   "source": [
    "$ payout = BET + profit $"
   ]
  },
  {
   "cell_type": "markdown",
   "metadata": {},
   "source": [
    "$ payout = 100 + 165 $"
   ]
  },
  {
   "cell_type": "markdown",
   "metadata": {},
   "source": [
    "$ payout = 265 $"
   ]
  },
  {
   "cell_type": "markdown",
   "metadata": {},
   "source": [
    "The **MoneyLine()** class takes an event name, bet amount, and odds and will calculate this information for us"
   ]
  },
  {
   "cell_type": "code",
   "execution_count": 2,
   "metadata": {},
   "outputs": [
    {
     "name": "stdout",
     "output_type": "stream",
     "text": [
      "      event  bet_amount  odds  multiplier  payout\n",
      "0  positive         100   165        2.65   265.0\n"
     ]
    }
   ],
   "source": [
    "pos_ml = MoneyLine(event=\"positive\", bet_amount=100, odds=165)\n",
    "pos_ml.print_stats()"
   ]
  },
  {
   "cell_type": "markdown",
   "metadata": {},
   "source": [
    "### Negative MoneyLine\n",
    "Negative moneyline returns represent the **favorite** if the odds are -150 that means that you bet 150 to win 100 for a total return of 166. This can be calculated as follows:"
   ]
  },
  {
   "cell_type": "markdown",
   "metadata": {},
   "source": [
    "#### Calculating profit"
   ]
  },
  {
   "cell_type": "markdown",
   "metadata": {},
   "source": [
    "$ profit = BET * \\bigl(\\frac{100}{ODDS} \\bigr) $"
   ]
  },
  {
   "cell_type": "markdown",
   "metadata": {},
   "source": [
    "$ profit = 100 * \\bigl(\\frac{100}{150} \\bigr) $"
   ]
  },
  {
   "cell_type": "markdown",
   "metadata": {},
   "source": [
    "$ profit = 66.67 $"
   ]
  },
  {
   "cell_type": "markdown",
   "metadata": {},
   "source": [
    "#### Calculating payout"
   ]
  },
  {
   "cell_type": "markdown",
   "metadata": {},
   "source": [
    "$ payout = BET + profit $"
   ]
  },
  {
   "cell_type": "markdown",
   "metadata": {},
   "source": [
    "$ payout = 100 + 66.67 $"
   ]
  },
  {
   "cell_type": "markdown",
   "metadata": {},
   "source": [
    "$ payout = 166.67 $"
   ]
  },
  {
   "cell_type": "code",
   "execution_count": 3,
   "metadata": {},
   "outputs": [
    {
     "name": "stdout",
     "output_type": "stream",
     "text": [
      "      event  bet_amount  odds  multiplier      payout\n",
      "0  negative         100  -150    1.666667  166.666667\n"
     ]
    }
   ],
   "source": [
    "neg_ml = MoneyLine(event=\"negative\", bet_amount=100, odds=-150)\n",
    "neg_ml.print_stats()"
   ]
  },
  {
   "cell_type": "markdown",
   "metadata": {},
   "source": [
    "# Creating a Parlay object\n",
    "A parlay object combines the multipliers from two moneyline objects to create an even hgher return (with more risk)"
   ]
  },
  {
   "cell_type": "markdown",
   "metadata": {},
   "source": [
    "Here is how you can calculate a \"True Odds\" Parlay\n",
    "\n",
    "Let's say we want a parlay with the following teams:\n",
    "pacers              -150\n",
    "celtics             +170\n",
    "bucks               -120\n",
    "\n",
    "\n",
    "First, we have to determine what the multipliers would be for each game, simply divide what the total payout would be (risk + win) by the risk amount"
   ]
  },
  {
   "cell_type": "code",
   "execution_count": 4,
   "metadata": {},
   "outputs": [],
   "source": [
    "pacers = MoneyLine(event=\"pacers\", bet_amount=100, odds=-150)\n",
    "celtics = MoneyLine(event=\"celtics\", bet_amount=100, odds=170)\n",
    "bucks = MoneyLine(event=\"bucks\", bet_amount=100, odds=-120)"
   ]
  },
  {
   "cell_type": "code",
   "execution_count": 5,
   "metadata": {},
   "outputs": [
    {
     "name": "stdout",
     "output_type": "stream",
     "text": [
      "    event  bet_amount  odds  multiplier      payout\n",
      "0  pacers         100  -150    1.666667  166.666667\n"
     ]
    }
   ],
   "source": [
    "pacers.print_stats()"
   ]
  },
  {
   "cell_type": "code",
   "execution_count": 6,
   "metadata": {},
   "outputs": [
    {
     "name": "stdout",
     "output_type": "stream",
     "text": [
      "     event  bet_amount  odds  multiplier  payout\n",
      "0  celtics         100   170         2.7   270.0\n"
     ]
    }
   ],
   "source": [
    "celtics.print_stats()"
   ]
  },
  {
   "cell_type": "code",
   "execution_count": 7,
   "metadata": {},
   "outputs": [
    {
     "name": "stdout",
     "output_type": "stream",
     "text": [
      "   event  bet_amount  odds  multiplier      payout\n",
      "0  bucks         100  -120    1.833333  183.333333\n"
     ]
    }
   ],
   "source": [
    "bucks.print_stats()"
   ]
  },
  {
   "cell_type": "markdown",
   "metadata": {},
   "source": [
    "### Parlay Formula\n",
    "So to create a parlay for these three events. You simply multiple the three multipliers by each other:\n",
    "\n",
    "$ {parlay\\_multiplier} = pacers_{multiplier} * celtics_{multiplier} * bucks_{multiplier} $\n"
   ]
  },
  {
   "cell_type": "markdown",
   "metadata": {},
   "source": [
    "$ {parlay\\_multiplier} = 1.67 * 2.7 * 1.83 $"
   ]
  },
  {
   "cell_type": "markdown",
   "metadata": {},
   "source": [
    "$ {parlay\\_multiplier} = 8.35 $ "
   ]
  },
  {
   "cell_type": "markdown",
   "metadata": {},
   "source": [
    "Now we will use the **Parlay()** class to create a parlay from these three moneylines"
   ]
  },
  {
   "cell_type": "code",
   "execution_count": 8,
   "metadata": {},
   "outputs": [],
   "source": [
    "parlay = Parlay(money_line_arr=[pacers, celtics, bucks], bet_amount=100)"
   ]
  },
  {
   "cell_type": "code",
   "execution_count": 15,
   "metadata": {},
   "outputs": [
    {
     "name": "stdout",
     "output_type": "stream",
     "text": [
      "                  event  bet_amount   odds  multiplier  payout\n",
      "0  pacers_celtics_bucks         100  725.0        8.25   825.0\n"
     ]
    }
   ],
   "source": [
    "# Note: This result will be slightly off due to rounding error\n",
    "parlay.print_stats()"
   ]
  },
  {
   "cell_type": "markdown",
   "metadata": {},
   "source": [
    "# Checking our results with Draftkings\n",
    "These two classes are necessary for the next step which is to build a system that maximizes return while minimizing risk, by leveraging a combination of parlays. The last step us double chacking that the values calculated by these classes match the values that are giving on draftkings. "
   ]
  },
  {
   "cell_type": "code",
   "execution_count": 10,
   "metadata": {},
   "outputs": [],
   "source": [
    "bulls = MoneyLine(event=\"bulls\", bet_amount=100, odds=200)\n",
    "mavericks = MoneyLine(event=\"mavericks\", bet_amount=100, odds=525)\n",
    "rockets = MoneyLine(event=\"rockets\", bet_amount=100, odds=-560)"
   ]
  },
  {
   "cell_type": "code",
   "execution_count": 11,
   "metadata": {},
   "outputs": [
    {
     "name": "stdout",
     "output_type": "stream",
     "text": [
      "   event  bet_amount  odds  multiplier  payout\n",
      "0  bulls         100   200         3.0   300.0\n"
     ]
    }
   ],
   "source": [
    "bulls.print_stats()"
   ]
  },
  {
   "cell_type": "markdown",
   "metadata": {},
   "source": [
    "![title](img/one_team_parlay.png)"
   ]
  },
  {
   "cell_type": "code",
   "execution_count": 12,
   "metadata": {},
   "outputs": [
    {
     "name": "stdout",
     "output_type": "stream",
     "text": [
      "             event  bet_amount    odds  multiplier  payout\n",
      "0  bulls_mavericks         100  1775.0       18.75  1875.0\n"
     ]
    }
   ],
   "source": [
    "two_team_parlay = Parlay(\n",
    "    money_line_arr=[bulls, mavericks], \n",
    "    bet_amount=100)\n",
    "\n",
    "two_team_parlay.print_stats()"
   ]
  },
  {
   "cell_type": "markdown",
   "metadata": {},
   "source": [
    "![title](img/two_team_parlay.png)"
   ]
  },
  {
   "cell_type": "code",
   "execution_count": 13,
   "metadata": {},
   "outputs": [
    {
     "name": "stdout",
     "output_type": "stream",
     "text": [
      "                     event  bet_amount         odds  multiplier       payout\n",
      "0  bulls_mavericks_rockets         100  2109.821429   22.098214  2209.821429\n"
     ]
    }
   ],
   "source": [
    "three_team_parlay = Parlay(\n",
    "    money_line_arr=[bulls, mavericks, rockets], \n",
    "    bet_amount=100)\n",
    "\n",
    "three_team_parlay.print_stats()"
   ]
  },
  {
   "cell_type": "markdown",
   "metadata": {},
   "source": [
    "![title](img/three_team_parlay.png)"
   ]
  },
  {
   "cell_type": "markdown",
   "metadata": {},
   "source": [
    "### Notes on the discrpancy\n",
    "As you can see, the Parlay() class came up with a result of 2209.82 while draftkings calculated a result of 2212.50 for the same parlay. This is likely due to a rounding error as they probably have more fractional values for each moneyline. For the purposes of this analysis well assume that they are the same. The minute differences shouldn't make a differece"
   ]
  },
  {
   "cell_type": "code",
   "execution_count": null,
   "metadata": {},
   "outputs": [],
   "source": []
  }
 ],
 "metadata": {
  "kernelspec": {
   "display_name": "Python 3",
   "language": "python",
   "name": "python3"
  },
  "language_info": {
   "codemirror_mode": {
    "name": "ipython",
    "version": 3
   },
   "file_extension": ".py",
   "mimetype": "text/x-python",
   "name": "python",
   "nbconvert_exporter": "python",
   "pygments_lexer": "ipython3",
   "version": "3.7.5"
  }
 },
 "nbformat": 4,
 "nbformat_minor": 2
}
