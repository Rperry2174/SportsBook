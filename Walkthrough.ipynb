{
 "cells": [
  {
   "cell_type": "code",
   "execution_count": 1,
   "metadata": {},
   "outputs": [],
   "source": [
    "from parlay_system import *"
   ]
  },
  {
   "cell_type": "markdown",
   "metadata": {},
   "source": [
    "# Creating a MoneyLine object\n",
    "A moneyline is represented as either a positive or a negative number"
   ]
  },
  {
   "cell_type": "markdown",
   "metadata": {},
   "source": [
    "### Positive MoneyLine\n",
    "Positive moneyline returns represent the underdog if the odds are +165 that means that you bet 100 to win  165 for a total return of 265. This can be calculated as follows:"
   ]
  },
  {
   "cell_type": "markdown",
   "metadata": {},
   "source": [
    "#### Calculating profit"
   ]
  },
  {
   "cell_type": "markdown",
   "metadata": {},
   "source": [
    "$ profit = BET * \\frac{ODDS}{100} $"
   ]
  },
  {
   "cell_type": "markdown",
   "metadata": {},
   "source": [
    "$ profit = 100 * \\frac{165}{100} $"
   ]
  },
  {
   "cell_type": "markdown",
   "metadata": {},
   "source": [
    "$ profit = 165 $"
   ]
  },
  {
   "cell_type": "markdown",
   "metadata": {},
   "source": [
    "#### Calculating payout"
   ]
  },
  {
   "cell_type": "markdown",
   "metadata": {},
   "source": [
    "$ payout = BET + profit $"
   ]
  },
  {
   "cell_type": "markdown",
   "metadata": {},
   "source": [
    "$ payout = 100 + 165 $"
   ]
  },
  {
   "cell_type": "markdown",
   "metadata": {},
   "source": [
    "$ payout = 265 $"
   ]
  },
  {
   "cell_type": "markdown",
   "metadata": {},
   "source": [
    "The **MoneyLine()** class takes an event name, bet amount, and odds and will calculate this information for us"
   ]
  },
  {
   "cell_type": "code",
   "execution_count": 2,
   "metadata": {},
   "outputs": [
    {
     "name": "stdout",
     "output_type": "stream",
     "text": [
      "      event  bet_amount  odds  multiplier  payout\n",
      "0  positive         100   165        2.65   265.0\n"
     ]
    }
   ],
   "source": [
    "pos_ml = MoneyLine(event=\"positive\", bet_amount=100, odds=165)\n",
    "pos_ml.print_stats()"
   ]
  },
  {
   "cell_type": "markdown",
   "metadata": {},
   "source": [
    "### Negative MoneyLine\n",
    "Negative moneyline returns represent the **favorite** if the odds are -150 that means that you bet 150 to win 100 for a total return of 166. This can be calculated as follows:"
   ]
  },
  {
   "cell_type": "markdown",
   "metadata": {},
   "source": [
    "#### Calculating profit"
   ]
  },
  {
   "cell_type": "markdown",
   "metadata": {},
   "source": [
    "$ profit = BET * \\bigl(\\frac{100}{ODDS} \\bigr) $"
   ]
  },
  {
   "cell_type": "markdown",
   "metadata": {},
   "source": [
    "$ profit = 100 * \\bigl(\\frac{100}{150} \\bigr) $"
   ]
  },
  {
   "cell_type": "markdown",
   "metadata": {},
   "source": [
    "$ profit = 66.67 $"
   ]
  },
  {
   "cell_type": "markdown",
   "metadata": {},
   "source": [
    "#### Calculating payout"
   ]
  },
  {
   "cell_type": "markdown",
   "metadata": {},
   "source": [
    "$ payout = BET + profit $"
   ]
  },
  {
   "cell_type": "markdown",
   "metadata": {},
   "source": [
    "$ payout = 100 + 66.67 $"
   ]
  },
  {
   "cell_type": "markdown",
   "metadata": {},
   "source": [
    "$ payout = 166.67 $"
   ]
  },
  {
   "cell_type": "code",
   "execution_count": 3,
   "metadata": {},
   "outputs": [
    {
     "name": "stdout",
     "output_type": "stream",
     "text": [
      "      event  bet_amount  odds  multiplier      payout\n",
      "0  negative         100  -150    1.666667  166.666667\n"
     ]
    }
   ],
   "source": [
    "neg_ml = MoneyLine(event=\"negative\", bet_amount=100, odds=-150)\n",
    "neg_ml.print_stats()"
   ]
  },
  {
   "cell_type": "markdown",
   "metadata": {},
   "source": [
    "# Creating a Parlay object\n",
    "A parlay object combines the multipliers from two moneyline objects to create an even hgher return (with more risk)"
   ]
  },
  {
   "cell_type": "markdown",
   "metadata": {},
   "source": [
    "Here is how you can calculate a \"True Odds\" Parlay\n",
    "\n",
    "Let's say we want a parlay with the following teams:\n",
    "pacers              -150\n",
    "celtics             +170\n",
    "bucks               -120\n",
    "\n",
    "\n",
    "First, we have to determine what the multipliers would be for each game, simply divide what the total payout would be (risk + win) by the risk amount"
   ]
  },
  {
   "cell_type": "code",
   "execution_count": 4,
   "metadata": {},
   "outputs": [],
   "source": [
    "pacers = MoneyLine(event=\"pacers\", bet_amount=100, odds=-150)\n",
    "celtics = MoneyLine(event=\"celtics\", bet_amount=100, odds=170)\n",
    "bucks = MoneyLine(event=\"bucks\", bet_amount=100, odds=-120)"
   ]
  },
  {
   "cell_type": "code",
   "execution_count": 5,
   "metadata": {},
   "outputs": [
    {
     "name": "stdout",
     "output_type": "stream",
     "text": [
      "    event  bet_amount  odds  multiplier      payout\n",
      "0  pacers         100  -150    1.666667  166.666667\n"
     ]
    }
   ],
   "source": [
    "pacers.print_stats()"
   ]
  },
  {
   "cell_type": "code",
   "execution_count": 6,
   "metadata": {},
   "outputs": [
    {
     "name": "stdout",
     "output_type": "stream",
     "text": [
      "     event  bet_amount  odds  multiplier  payout\n",
      "0  celtics         100   170         2.7   270.0\n"
     ]
    }
   ],
   "source": [
    "celtics.print_stats()"
   ]
  },
  {
   "cell_type": "code",
   "execution_count": 7,
   "metadata": {},
   "outputs": [
    {
     "name": "stdout",
     "output_type": "stream",
     "text": [
      "   event  bet_amount  odds  multiplier      payout\n",
      "0  bucks         100  -120    1.833333  183.333333\n"
     ]
    }
   ],
   "source": [
    "bucks.print_stats()"
   ]
  },
  {
   "cell_type": "markdown",
   "metadata": {},
   "source": [
    "### Parlay Formula\n",
    "So to create a parlay for these three events. You simply multiple the three multipliers by each other:\n",
    "\n",
    "$ {parlay\\_multiplier} = pacers_{multiplier} * celtics_{multiplier} * bucks_{multiplier} $\n"
   ]
  },
  {
   "cell_type": "markdown",
   "metadata": {},
   "source": [
    "$ {parlay\\_multiplier} = 1.67 * 2.7 * 1.83 $"
   ]
  },
  {
   "cell_type": "markdown",
   "metadata": {},
   "source": [
    "$ {parlay\\_multiplier} = 8.35 $ "
   ]
  },
  {
   "cell_type": "markdown",
   "metadata": {},
   "source": [
    "Now we will use the **Parlay()** class to create a parlay from these three moneylines"
   ]
  },
  {
   "cell_type": "code",
   "execution_count": 8,
   "metadata": {},
   "outputs": [],
   "source": [
    "parlay = Parlay(money_line_arr=[pacers, celtics, bucks], bet_amount=100)"
   ]
  },
  {
   "cell_type": "code",
   "execution_count": 9,
   "metadata": {},
   "outputs": [
    {
     "name": "stdout",
     "output_type": "stream",
     "text": [
      "                  event  bet_amount   odds  multiplier  payout\n",
      "0  pacers_celtics_bucks         100  725.0        8.25   825.0\n"
     ]
    }
   ],
   "source": [
    "# Note: This result will be slightly off due to rounding error\n",
    "parlay.print_stats()"
   ]
  },
  {
   "cell_type": "markdown",
   "metadata": {},
   "source": [
    "# Verifying our math with Draftkings\n",
    "These two classes are necessary for the next step which is to build a system that maximizes return while minimizing risk, by leveraging a combination of parlays. The last step us double chacking that the values calculated by these classes match the values that are giving on draftkings. "
   ]
  },
  {
   "cell_type": "code",
   "execution_count": 10,
   "metadata": {},
   "outputs": [],
   "source": [
    "bulls = MoneyLine(event=\"bulls\", bet_amount=100, odds=200)\n",
    "mavericks = MoneyLine(event=\"mavericks\", bet_amount=100, odds=525)\n",
    "rockets = MoneyLine(event=\"rockets\", bet_amount=100, odds=-560)"
   ]
  },
  {
   "cell_type": "code",
   "execution_count": 11,
   "metadata": {},
   "outputs": [
    {
     "name": "stdout",
     "output_type": "stream",
     "text": [
      "   event  bet_amount  odds  multiplier  payout\n",
      "0  bulls         100   200         3.0   300.0\n"
     ]
    }
   ],
   "source": [
    "bulls.print_stats()"
   ]
  },
  {
   "cell_type": "markdown",
   "metadata": {},
   "source": [
    "![title](img/one_team_parlay.png)"
   ]
  },
  {
   "cell_type": "code",
   "execution_count": 12,
   "metadata": {},
   "outputs": [
    {
     "name": "stdout",
     "output_type": "stream",
     "text": [
      "             event  bet_amount    odds  multiplier  payout\n",
      "0  bulls_mavericks         100  1775.0       18.75  1875.0\n"
     ]
    }
   ],
   "source": [
    "two_team_parlay = Parlay(\n",
    "    money_line_arr=[bulls, mavericks], \n",
    "    bet_amount=100)\n",
    "\n",
    "two_team_parlay.print_stats()"
   ]
  },
  {
   "cell_type": "markdown",
   "metadata": {},
   "source": [
    "![title](img/two_team_parlay.png)"
   ]
  },
  {
   "cell_type": "code",
   "execution_count": 13,
   "metadata": {},
   "outputs": [
    {
     "name": "stdout",
     "output_type": "stream",
     "text": [
      "                     event  bet_amount         odds  multiplier       payout\n",
      "0  bulls_mavericks_rockets         100  2109.821429   22.098214  2209.821429\n"
     ]
    }
   ],
   "source": [
    "three_team_parlay = Parlay(\n",
    "    money_line_arr=[bulls, mavericks, rockets], \n",
    "    bet_amount=100)\n",
    "\n",
    "three_team_parlay.print_stats()"
   ]
  },
  {
   "cell_type": "markdown",
   "metadata": {},
   "source": [
    "![title](img/three_team_parlay.png)"
   ]
  },
  {
   "cell_type": "markdown",
   "metadata": {},
   "source": [
    "### Notes on the discrpancy\n",
    "As you can see, the Parlay() class came up with a result of 2209.82 while draftkings calculated a result of 2212.50 for the same parlay. This is likely due to a rounding error as they probably have more fractional values for each moneyline. For the purposes of this analysis well assume that they are the same. The minute differences shouldn't make a differece"
   ]
  },
  {
   "cell_type": "markdown",
   "metadata": {},
   "source": [
    "# Creating a Parlay System\n",
    "Here is how I plan to use the concept of parlays. "
   ]
  },
  {
   "cell_type": "markdown",
   "metadata": {},
   "source": [
    "Consider the following two matchups between nba teams:\n",
    "\n",
    "Game1: WAS Wizards(+185) vs DET Pistons(-225)\n",
    "Game2: DAL Mavericks(+525) vs MIL Bucks(-715)"
   ]
  },
  {
   "cell_type": "code",
   "execution_count": 14,
   "metadata": {},
   "outputs": [],
   "source": [
    "### Create the 4 moneylines\n",
    "wizards = MoneyLine(event=\"wizards\", bet_amount=100, odds=185)\n",
    "pistons = MoneyLine(event=\"pistons\", bet_amount=100, odds=-225)\n",
    "\n",
    "mavericks = MoneyLine(event=\"mavericks\", bet_amount=100, odds=525)\n",
    "bucks = MoneyLine(event=\"bucks\", bet_amount=100, odds=-715)\n",
    "\n",
    "### Set up the moneylines as binaries\n",
    "binaries = [\n",
    "    [wizards, pistons],\n",
    "    [mavericks, bucks]\n",
    "]"
   ]
  },
  {
   "cell_type": "markdown",
   "metadata": {},
   "source": [
    "### Step 1: Create all combinations\n",
    "With these binaries, we could make 4 potential parlays:\n",
    "```\n",
    "    parlay_0 = wizards + mavericks\n",
    "    parlay_1 = wizards + bucks\n",
    "    parlay_2 = pistons + mavericks\n",
    "    parlay_3 = pistons + bucks\n",
    "```\n",
    "\n",
    "So lets turn them into __Parlay()__ objects"
   ]
  },
  {
   "cell_type": "code",
   "execution_count": 15,
   "metadata": {},
   "outputs": [],
   "source": [
    "parlay_0 = Parlay(\n",
    "    money_line_arr=[wizards, mavericks], \n",
    "    bet_amount=100)\n",
    "\n",
    "parlay_1 = Parlay(\n",
    "    money_line_arr=[wizards, bucks], \n",
    "    bet_amount=100)\n",
    "\n",
    "parlay_2 = Parlay(\n",
    "    money_line_arr=[pistons, mavericks], \n",
    "    bet_amount=100)\n",
    "\n",
    "parlay_3 = Parlay(\n",
    "    money_line_arr=[pistons, bucks], \n",
    "    bet_amount=100)"
   ]
  },
  {
   "cell_type": "code",
   "execution_count": 16,
   "metadata": {},
   "outputs": [],
   "source": [
    "# Combine all parlays into a table for easy viewing\n",
    "all_parlay_df = pd.DataFrame()\n",
    "all_parlay_df = pd.concat([\n",
    "    all_parlay_df, \n",
    "    parlay_0.statistics, \n",
    "    parlay_1.statistics, \n",
    "    parlay_2.statistics, \n",
    "    parlay_3.statistics\n",
    "])"
   ]
  },
  {
   "cell_type": "code",
   "execution_count": 17,
   "metadata": {},
   "outputs": [
    {
     "data": {
      "text/html": [
       "<div>\n",
       "<style scoped>\n",
       "    .dataframe tbody tr th:only-of-type {\n",
       "        vertical-align: middle;\n",
       "    }\n",
       "\n",
       "    .dataframe tbody tr th {\n",
       "        vertical-align: top;\n",
       "    }\n",
       "\n",
       "    .dataframe thead th {\n",
       "        text-align: right;\n",
       "    }\n",
       "</style>\n",
       "<table border=\"1\" class=\"dataframe\">\n",
       "  <thead>\n",
       "    <tr style=\"text-align: right;\">\n",
       "      <th></th>\n",
       "      <th>event</th>\n",
       "      <th>bet_amount</th>\n",
       "      <th>odds</th>\n",
       "      <th>multiplier</th>\n",
       "      <th>payout</th>\n",
       "      <th>profit</th>\n",
       "    </tr>\n",
       "  </thead>\n",
       "  <tbody>\n",
       "    <tr>\n",
       "      <th>0</th>\n",
       "      <td>wizards_mavericks</td>\n",
       "      <td>100</td>\n",
       "      <td>1681.250000</td>\n",
       "      <td>17.812500</td>\n",
       "      <td>1781.250000</td>\n",
       "      <td>1381.250000</td>\n",
       "    </tr>\n",
       "    <tr>\n",
       "      <th>0</th>\n",
       "      <td>wizards_bucks</td>\n",
       "      <td>100</td>\n",
       "      <td>224.860140</td>\n",
       "      <td>3.248601</td>\n",
       "      <td>324.860140</td>\n",
       "      <td>-75.139860</td>\n",
       "    </tr>\n",
       "    <tr>\n",
       "      <th>0</th>\n",
       "      <td>pistons_mavericks</td>\n",
       "      <td>100</td>\n",
       "      <td>802.777778</td>\n",
       "      <td>9.027778</td>\n",
       "      <td>902.777778</td>\n",
       "      <td>502.777778</td>\n",
       "    </tr>\n",
       "    <tr>\n",
       "      <th>0</th>\n",
       "      <td>pistons_bucks</td>\n",
       "      <td>100</td>\n",
       "      <td>64.646465</td>\n",
       "      <td>1.646465</td>\n",
       "      <td>164.646465</td>\n",
       "      <td>-235.353535</td>\n",
       "    </tr>\n",
       "  </tbody>\n",
       "</table>\n",
       "</div>"
      ],
      "text/plain": [
       "               event  bet_amount         odds  multiplier       payout  \\\n",
       "0  wizards_mavericks         100  1681.250000   17.812500  1781.250000   \n",
       "0      wizards_bucks         100   224.860140    3.248601   324.860140   \n",
       "0  pistons_mavericks         100   802.777778    9.027778   902.777778   \n",
       "0      pistons_bucks         100    64.646465    1.646465   164.646465   \n",
       "\n",
       "        profit  \n",
       "0  1381.250000  \n",
       "0   -75.139860  \n",
       "0   502.777778  \n",
       "0  -235.353535  "
      ]
     },
     "execution_count": 17,
     "metadata": {},
     "output_type": "execute_result"
    }
   ],
   "source": [
    "# Add a column for 'profit' which is payout minus the cost of betting on all parlays\n",
    "all_parlay_df['profit'] = all_parlay_df.payout - sum(all_parlay_df['bet_amount'])\n",
    "all_parlay_df"
   ]
  },
  {
   "cell_type": "markdown",
   "metadata": {},
   "source": [
    "As a reminder, __profiit is calculated as payout minus sum of all_bet_amounts__."
   ]
  },
  {
   "cell_type": "markdown",
   "metadata": {},
   "source": [
    "### Interpreting The Initial Results\n",
    "As you can see here, __if we bet \\\\$100 on each of the potential outcomes, in 2 out of 4 outcomes, we would make money__. Unfortunately, however, the two outcomes that make money are the least likely outcomes. So as it stands this would not be a very intelligent strategy."
   ]
  },
  {
   "cell_type": "markdown",
   "metadata": {},
   "source": [
    "### Goal - Find Maximum average profit (given a few constraints)\n",
    "The ultimate goal is to find a solution of four input bets where the profit of all __four__ strategies is > 0. Even if it is just \\\\$0.01, if all four options are \\\\$0.01 then we just increase the bet amount 10x or 100x and in that case we are guarenteed to make money.\n",
    "\n",
    "Put differently, we want to __find the \"bet_amount\" coefficients for the four parlays where \"profit\" > 1 and the average profit is at its peak.__ \n",
    "\n",
    "Using Microsoft Excel's solver this can be done like so:"
   ]
  },
  {
   "cell_type": "markdown",
   "metadata": {},
   "source": [
    "![title](img/excel_demo.png)"
   ]
  },
  {
   "cell_type": "markdown",
   "metadata": {},
   "source": [
    "What this tells us is that given these constraints:\n",
    "```\n",
    "    bet_amount >= 0.10\n",
    "    profit >= 0\n",
    "```\n",
    "and maximizing the \"average_profit\" you could make the bets above and in __all of the potential outcomes except \"pistons_bucks\" make >= \\\\$0__."
   ]
  },
  {
   "cell_type": "markdown",
   "metadata": {},
   "source": [
    "Again, its worth noting that the one instance in which you __lose__ money, is the most likely scenario __(both favorites winning)__"
   ]
  },
  {
   "cell_type": "markdown",
   "metadata": {},
   "source": [
    "### Replicating Excel with Nonlinear Solver in Python\n",
    "While excel is very useful in this sense, it would be more ideal to be able to run this solver directly in python so that we can expand this analysis to 3, 4, or even 5 team parlays without having to go back and fourth between python and excel. \n",
    "\n",
    "The following is the scipy's solver algorithm using the [SLSQP method](https://en.wikipedia.org/wiki/Sequential_quadratic_programming) (vs the GRG Nonlinear from excel). The SLSQP method just works better from the different ones that I tried.\n"
   ]
  },
  {
   "cell_type": "code",
   "execution_count": 18,
   "metadata": {},
   "outputs": [],
   "source": [
    "# x represents an array of input values. In this case, the 4 bet_amount \n",
    "# coefficients\n",
    "\n",
    "all_parlays = [\n",
    "    parlay_0, \n",
    "    parlay_1, \n",
    "    parlay_2, \n",
    "    parlay_3\n",
    "]\n",
    "\n",
    "\n",
    "# Optimization function to be passed into optimize.minimize()\n",
    "def f(bet_arr):\n",
    "    parlay_profits = []\n",
    "\n",
    "    for i in range(len(bet_arr)):\n",
    "        parlay = all_parlays[i]\n",
    "        profit = (bet_arr[i] * parlay.multiplier + bet_arr[i]) - sum(bet_arr)\n",
    "        parlay_profits.append(profit)\n",
    "\n",
    "    # the return value below will be MINIMIZED\n",
    "    # we want to MAXIMIZE average profits we take the inverse \n",
    "    return -statistics.mean(parlay_profits)"
   ]
  },
  {
   "cell_type": "code",
   "execution_count": 19,
   "metadata": {},
   "outputs": [
    {
     "data": {
      "text/plain": [
       "((0.1, 30), (0.1, 30), (0.1, 30), (0.1, 30))"
      ]
     },
     "execution_count": 19,
     "metadata": {},
     "output_type": "execute_result"
    }
   ],
   "source": [
    "# Create bounds for the bet_amount variables\n",
    "bnds = ()\n",
    "bounds = (0.10, 30)\n",
    "for i in range(len(all_parlays)):\n",
    "    bnds += (bounds,)\n",
    "bnds"
   ]
  },
  {
   "cell_type": "code",
   "execution_count": 20,
   "metadata": {},
   "outputs": [
    {
     "name": "stdout",
     "output_type": "stream",
     "text": [
      "[0.1        0.24447918 0.1        0.35829859]\n"
     ]
    }
   ],
   "source": [
    "target_profit = 0.1\n",
    "cons = [{'type': 'ineq', 'fun': lambda x, i=i : x[i] * all_parlays[i].multiplier - sum(x) - target_profit } for i in range(len(all_parlays))]\n",
    "\n",
    "# COBYLA doesn't support bounds in this format\n",
    "FinalVal= optimize.minimize(f, np.ones(len(all_parlays)), method='SLSQP', bounds=bnds, constraints=cons)\n",
    "print(FinalVal.x)"
   ]
  },
  {
   "cell_type": "code",
   "execution_count": 21,
   "metadata": {},
   "outputs": [
    {
     "data": {
      "text/html": [
       "<div>\n",
       "<style scoped>\n",
       "    .dataframe tbody tr th:only-of-type {\n",
       "        vertical-align: middle;\n",
       "    }\n",
       "\n",
       "    .dataframe tbody tr th {\n",
       "        vertical-align: top;\n",
       "    }\n",
       "\n",
       "    .dataframe thead th {\n",
       "        text-align: right;\n",
       "    }\n",
       "</style>\n",
       "<table border=\"1\" class=\"dataframe\">\n",
       "  <thead>\n",
       "    <tr style=\"text-align: right;\">\n",
       "      <th></th>\n",
       "      <th>event</th>\n",
       "      <th>bet</th>\n",
       "      <th>mult</th>\n",
       "      <th>payout</th>\n",
       "      <th>profit</th>\n",
       "    </tr>\n",
       "  </thead>\n",
       "  <tbody>\n",
       "    <tr>\n",
       "      <th>0</th>\n",
       "      <td>wizards_mavericks</td>\n",
       "      <td>0.10</td>\n",
       "      <td>17.812500</td>\n",
       "      <td>1.7812</td>\n",
       "      <td>0.98</td>\n",
       "    </tr>\n",
       "    <tr>\n",
       "      <th>1</th>\n",
       "      <td>wizards_bucks</td>\n",
       "      <td>0.24</td>\n",
       "      <td>3.248601</td>\n",
       "      <td>0.7942</td>\n",
       "      <td>-0.01</td>\n",
       "    </tr>\n",
       "    <tr>\n",
       "      <th>2</th>\n",
       "      <td>pistons_mavericks</td>\n",
       "      <td>0.10</td>\n",
       "      <td>9.027778</td>\n",
       "      <td>0.9028</td>\n",
       "      <td>0.10</td>\n",
       "    </tr>\n",
       "    <tr>\n",
       "      <th>3</th>\n",
       "      <td>pistons_bucks</td>\n",
       "      <td>0.36</td>\n",
       "      <td>1.646465</td>\n",
       "      <td>0.5899</td>\n",
       "      <td>-0.21</td>\n",
       "    </tr>\n",
       "  </tbody>\n",
       "</table>\n",
       "</div>"
      ],
      "text/plain": [
       "               event   bet       mult  payout  profit\n",
       "0  wizards_mavericks  0.10  17.812500  1.7812    0.98\n",
       "1      wizards_bucks  0.24   3.248601  0.7942   -0.01\n",
       "2  pistons_mavericks  0.10   9.027778  0.9028    0.10\n",
       "3      pistons_bucks  0.36   1.646465  0.5899   -0.21"
      ]
     },
     "execution_count": 21,
     "metadata": {},
     "output_type": "execute_result"
    }
   ],
   "source": [
    "# Arrays to store data frame values in\n",
    "events = []\n",
    "bets = []\n",
    "multipliers = []\n",
    "payouts = []\n",
    "profits = []\n",
    "\n",
    "for i in range(len(FinalVal.x)):\n",
    "    bet = FinalVal.x[i]\n",
    "    parlay = all_parlays[i]\n",
    "    event = parlay.event\n",
    "    multiplier = parlay.multiplier\n",
    "    payout = bet * parlay.multiplier\n",
    "    profit = bet * parlay.multiplier - sum(FinalVal.x)\n",
    "    \n",
    "    events.append(event)\n",
    "    bets.append(round(bet, 2))\n",
    "    multipliers.append(multiplier)\n",
    "    payouts.append(round(payout, 4))\n",
    "    profits.append(round(profit, 2))\n",
    "    \n",
    "df = pd.DataFrame({'event': events,\n",
    "                   'bet': bets,\n",
    "                   'mult': multipliers,\n",
    "                   'payout': payouts,\n",
    "                   'profit': profits\n",
    "                    })\n",
    "# df = df.sort_values(by=['profit'], ascending=False)\n",
    "df"
   ]
  },
  {
   "cell_type": "markdown",
   "metadata": {},
   "source": [
    "As a reminder, here are the values that the excel solver calculated for comparison:"
   ]
  },
  {
   "cell_type": "markdown",
   "metadata": {},
   "source": [
    "![title](img/excel_demo.png)"
   ]
  },
  {
   "cell_type": "markdown",
   "metadata": {},
   "source": [
    "## ParlaySystem() class runs the optimizations\n",
    "So now that this has been established I will just mention one more class that exists. This is the class __ParlaySystem()__:\n",
    "```\n",
    "### Set up the moneylines as binaries\n",
    "binaries = [\n",
    "    [wizards, pistons],\n",
    "    [mavericks, bucks]\n",
    "]\n",
    "\n",
    "ParlaySystem(binaries=binaries,\n",
    "             target_profit=0.50,\n",
    "             bounds=(0.01, 30),\n",
    "            )\n",
    "```"
   ]
  },
  {
   "cell_type": "markdown",
   "metadata": {},
   "source": [
    "## Next Steps / Summary"
   ]
  },
  {
   "cell_type": "markdown",
   "metadata": {},
   "source": [
    "So overall the plan is to do the following steps once given a list of binaries:\n",
    "\n",
    "1. Create all potential subset combinations from the list of binaries\n",
    "2. turn the selected subsets binaries into a system of parlays\n",
    "2. Run the SQSLP solver function to find the optimal bet_amount for each parlay\n",
    "5. Merge the results from each respective binary subset to evaluate the ones most likely to produce profit\n",
    "6. Compare with actual past results\n",
    "\n",
    "__In the next notebook I'll combine all of these and show some results with actual ncaa tournament data__"
   ]
  },
  {
   "cell_type": "code",
   "execution_count": null,
   "metadata": {},
   "outputs": [],
   "source": []
  }
 ],
 "metadata": {
  "kernelspec": {
   "display_name": "Python 3",
   "language": "python",
   "name": "python3"
  },
  "language_info": {
   "codemirror_mode": {
    "name": "ipython",
    "version": 3
   },
   "file_extension": ".py",
   "mimetype": "text/x-python",
   "name": "python",
   "nbconvert_exporter": "python",
   "pygments_lexer": "ipython3",
   "version": "3.7.5"
  }
 },
 "nbformat": 4,
 "nbformat_minor": 2
}
