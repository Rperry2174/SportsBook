{
 "cells": [
  {
   "cell_type": "code",
   "execution_count": 1,
   "metadata": {},
   "outputs": [],
   "source": [
    "import itertools\n",
    "from parlay_system import *\n",
    "pd.set_option('display.max_rows', 500)\n",
    "pd.set_option('display.max_columns', 500)\n",
    "pd.set_option('display.width', 1000)\n"
   ]
  },
  {
   "cell_type": "code",
   "execution_count": 2,
   "metadata": {},
   "outputs": [],
   "source": [
    "barys = MoneyLine(event=\"barys\", bet_amount=100, odds=163)\n",
    "ska = MoneyLine(event=\"ska\", bet_amount=100, odds=-200)\n",
    "\n",
    "neftekhimik = MoneyLine(event=\"neftekhimik\", bet_amount=100, odds=163)\n",
    "akbars = MoneyLine(event=\"akbars\", bet_amount=100, odds=-200)\n",
    "\n",
    "# \n",
    "# hawaii = MoneyLine(event=\"hawaii\", bet_amount=100, odds=230)\n",
    "# wash = MoneyLine(event=\"wash\", bet_amount=100, odds=-295)\n",
    "\n",
    "binaries = [\n",
    "    [barys, ska],\n",
    "    [neftekhimik, akbars],\n",
    "]\n",
    "\n",
    "results = [\n",
    "    [0, 1], #[ska, barys],\n",
    "    [0, 1], #[neftekhimik, akbars],\n",
    "]\n",
    "\n",
    "\n",
    "override_arr = [0, 2, 99]\n",
    "\n",
    "\n",
    "def create_dicts(in_binaries, in_results):\n",
    "    ml_lookup = {}\n",
    "    ml_win_lookup = {}\n",
    "    id = 0\n",
    "    for bi in range(len(in_binaries)):\n",
    "        binary = in_binaries[bi]\n",
    "        for ml_i in range(len(binary)):\n",
    "            ml = binary[ml_i]\n",
    "            ml.set_index(id) \n",
    "            is_winner = in_results[bi][ml_i]\n",
    "            ml_lookup[id] = ml.event\n",
    "            ml_win_lookup[id] = is_winner\n",
    "            id += 1\n",
    "    \n",
    "    return ml_lookup, ml_win_lookup\n",
    "\n",
    "ml_lookup, ml_outcome_lookup = create_dicts(binaries, results)"
   ]
  },
  {
   "cell_type": "code",
   "execution_count": 3,
   "metadata": {},
   "outputs": [],
   "source": [
    "def findsubsets(s, n):\n",
    "    return list(itertools.combinations(s, n))\n",
    "\n",
    "TOURNEY_SIZE = len(binaries)\n",
    "SELECT_NUM = 2\n",
    "s = set()\n",
    "n = SELECT_NUM\n",
    "\n",
    "for i in range(TOURNEY_SIZE):\n",
    "    s.add(i)\n",
    "\n",
    "all_subsets = findsubsets(s, n)"
   ]
  },
  {
   "cell_type": "code",
   "execution_count": 4,
   "metadata": {},
   "outputs": [
    {
     "data": {
      "text/plain": [
       "1"
      ]
     },
     "execution_count": 4,
     "metadata": {},
     "output_type": "execute_result"
    }
   ],
   "source": [
    "len(all_subsets)"
   ]
  },
  {
   "cell_type": "code",
   "execution_count": 5,
   "metadata": {},
   "outputs": [
    {
     "name": "stdout",
     "output_type": "stream",
     "text": [
      "     fun: -0.036097633893489196\n",
      "     jac: array([-0.729225,  0.01375 ,  0.01375 ,  0.4375  ])\n",
      " message: 'Positive directional derivative for linesearch'\n",
      "    nfev: 44\n",
      "     nit: 8\n",
      "    njev: 4\n",
      "  status: 8\n",
      " success: False\n",
      "       x: array([0.05580443, 0.08759463, 0.08759463, 0.005     ])\n",
      "slsqp_solver: \n",
      "               event index[]  result  event_status    odds    bet    mult  payout  profit\n",
      "3         ska_akbars  [1, 3]  [1, 1]          True  125.00  0.005  2.2500  0.0113  -0.225\n",
      "0  barys_neftekhimik  [0, 2]  [0, 0]         False  591.69  0.056  6.9169  0.3860   0.150\n",
      "1       barys_akbars  [0, 3]  [0, 1]         False  294.50  0.088  3.9450  0.3456   0.110\n",
      "2    ska_neftekhimik  [1, 2]  [1, 0]         False  294.50  0.088  3.9450  0.3456   0.110\n",
      "total_bet   :  0.24\n",
      "mean        :  0.03625\n",
      "max         :  0.15\n",
      "min         :  -0.225\n",
      "std         :  0.1751844266290053\n",
      "             odds       bet      mult    payout    profit\n",
      "count    4.000000  4.000000  4.000000  4.000000  4.000000\n",
      "mean   326.422500  0.059250  4.264225  0.272125  0.036250\n",
      "std    194.058378  0.039187  1.940584  0.174923  0.175184\n",
      "min    125.000000  0.005000  2.250000  0.011300 -0.225000\n",
      "25%    252.125000  0.043250  3.521250  0.262025  0.026250\n",
      "50%    294.500000  0.072000  3.945000  0.345600  0.110000\n",
      "75%    368.797500  0.088000  4.687975  0.355700  0.120000\n",
      "max    591.690000  0.088000  6.916900  0.386000  0.150000\n",
      "[ + , - ]:  [326, -400]\n",
      " pos/neg : -0.815\n",
      "toalt_dif:  -74\n"
     ]
    }
   ],
   "source": [
    "csv = []\n",
    "df = pd.DataFrame()\n",
    "\n",
    "for i in range(len(all_subsets)):\n",
    "    current_subset = all_subsets[i]\n",
    "    parlay_binaries = []\n",
    "    for i in range(len(current_subset)):\n",
    "        index = current_subset[i]\n",
    "        parlay_binaries.append(binaries[index])\n",
    "\n",
    "    ps = ParlaySystem(binaries=parlay_binaries,\n",
    "                    target_profit=0.15,\n",
    "                    bounds=(0.005, 30),\n",
    "                    binary_index_arr=list(current_subset),\n",
    "                    binary_results_arr=results,\n",
    "                    index_to_ml=ml_lookup,\n",
    "                    index_to_outcome=ml_outcome_lookup,\n",
    "                    override_arr=override_arr\n",
    "                    )\n",
    "    \n",
    "    csv_res, raw_df = ps.slsqp_solver()\n",
    "    df = pd.concat([df, raw_df])\n",
    "    csv.append(csv_res)"
   ]
  },
  {
   "cell_type": "code",
   "execution_count": 32,
   "metadata": {},
   "outputs": [
    {
     "name": "stdout",
     "output_type": "stream",
     "text": [
      "  event  bet_amount   odds  multiplier  payout\n",
      "0   neg    0.203556  125.0        2.25   0.458\n"
     ]
    }
   ],
   "source": [
    "a = MoneyLine(event=\"neg\", bet_amount=0.20355555555555556, odds=125.00)\n",
    "a.print_stats()"
   ]
  },
  {
   "cell_type": "code",
   "execution_count": 28,
   "metadata": {},
   "outputs": [
    {
     "name": "stdout",
     "output_type": "stream",
     "text": [
      "  event  bet_amount    odds  multiplier    payout\n",
      "0   neg       0.056  591.69      6.9169  0.387346\n"
     ]
    }
   ],
   "source": [
    "b = MoneyLine(event=\"neg\", bet_amount=0.056, odds=591.69)\n",
    "b.print_stats()"
   ]
  },
  {
   "cell_type": "code",
   "execution_count": 29,
   "metadata": {},
   "outputs": [
    {
     "name": "stdout",
     "output_type": "stream",
     "text": [
      "  event  bet_amount   odds  multiplier   payout\n",
      "0   neg       0.088  294.5       3.945  0.34716\n"
     ]
    }
   ],
   "source": [
    "c = MoneyLine(event=\"neg\", bet_amount=0.088, odds=294.50)\n",
    "c.print_stats()"
   ]
  },
  {
   "cell_type": "code",
   "execution_count": 30,
   "metadata": {},
   "outputs": [
    {
     "name": "stdout",
     "output_type": "stream",
     "text": [
      "  event  bet_amount   odds  multiplier   payout\n",
      "0   neg       0.088  294.5       3.945  0.34716\n"
     ]
    }
   ],
   "source": [
    "d = MoneyLine(event=\"neg\", bet_amount=0.088, odds=294.50)\n",
    "d.print_stats()"
   ]
  },
  {
   "cell_type": "code",
   "execution_count": 31,
   "metadata": {},
   "outputs": [
    {
     "data": {
      "text/plain": [
       "0.33555555555555555"
      ]
     },
     "execution_count": 31,
     "metadata": {},
     "output_type": "execute_result"
    }
   ],
   "source": [
    "a.bet_amount + b.bet_amount + c.bet_amount + d.bet_amount"
   ]
  },
  {
   "cell_type": "code",
   "execution_count": 7,
   "metadata": {},
   "outputs": [
    {
     "data": {
      "text/html": [
       "<div>\n",
       "<style scoped>\n",
       "    .dataframe tbody tr th:only-of-type {\n",
       "        vertical-align: middle;\n",
       "    }\n",
       "\n",
       "    .dataframe tbody tr th {\n",
       "        vertical-align: top;\n",
       "    }\n",
       "\n",
       "    .dataframe thead th {\n",
       "        text-align: right;\n",
       "    }\n",
       "</style>\n",
       "<table border=\"1\" class=\"dataframe\">\n",
       "  <thead>\n",
       "    <tr style=\"text-align: right;\">\n",
       "      <th></th>\n",
       "      <th>odds</th>\n",
       "      <th>bet</th>\n",
       "      <th>mult</th>\n",
       "      <th>payout</th>\n",
       "      <th>profit</th>\n",
       "    </tr>\n",
       "  </thead>\n",
       "  <tbody>\n",
       "    <tr>\n",
       "      <th>count</th>\n",
       "      <td>4.000000</td>\n",
       "      <td>4.000000</td>\n",
       "      <td>4.000000</td>\n",
       "      <td>4.000000</td>\n",
       "      <td>4.000000</td>\n",
       "    </tr>\n",
       "    <tr>\n",
       "      <th>mean</th>\n",
       "      <td>326.422500</td>\n",
       "      <td>0.059250</td>\n",
       "      <td>4.264225</td>\n",
       "      <td>0.272125</td>\n",
       "      <td>0.036250</td>\n",
       "    </tr>\n",
       "    <tr>\n",
       "      <th>std</th>\n",
       "      <td>194.058378</td>\n",
       "      <td>0.039187</td>\n",
       "      <td>1.940584</td>\n",
       "      <td>0.174923</td>\n",
       "      <td>0.175184</td>\n",
       "    </tr>\n",
       "    <tr>\n",
       "      <th>min</th>\n",
       "      <td>125.000000</td>\n",
       "      <td>0.005000</td>\n",
       "      <td>2.250000</td>\n",
       "      <td>0.011300</td>\n",
       "      <td>-0.225000</td>\n",
       "    </tr>\n",
       "    <tr>\n",
       "      <th>25%</th>\n",
       "      <td>252.125000</td>\n",
       "      <td>0.043250</td>\n",
       "      <td>3.521250</td>\n",
       "      <td>0.262025</td>\n",
       "      <td>0.026250</td>\n",
       "    </tr>\n",
       "    <tr>\n",
       "      <th>50%</th>\n",
       "      <td>294.500000</td>\n",
       "      <td>0.072000</td>\n",
       "      <td>3.945000</td>\n",
       "      <td>0.345600</td>\n",
       "      <td>0.110000</td>\n",
       "    </tr>\n",
       "    <tr>\n",
       "      <th>75%</th>\n",
       "      <td>368.797500</td>\n",
       "      <td>0.088000</td>\n",
       "      <td>4.687975</td>\n",
       "      <td>0.355700</td>\n",
       "      <td>0.120000</td>\n",
       "    </tr>\n",
       "    <tr>\n",
       "      <th>max</th>\n",
       "      <td>591.690000</td>\n",
       "      <td>0.088000</td>\n",
       "      <td>6.916900</td>\n",
       "      <td>0.386000</td>\n",
       "      <td>0.150000</td>\n",
       "    </tr>\n",
       "  </tbody>\n",
       "</table>\n",
       "</div>"
      ],
      "text/plain": [
       "             odds       bet      mult    payout    profit\n",
       "count    4.000000  4.000000  4.000000  4.000000  4.000000\n",
       "mean   326.422500  0.059250  4.264225  0.272125  0.036250\n",
       "std    194.058378  0.039187  1.940584  0.174923  0.175184\n",
       "min    125.000000  0.005000  2.250000  0.011300 -0.225000\n",
       "25%    252.125000  0.043250  3.521250  0.262025  0.026250\n",
       "50%    294.500000  0.072000  3.945000  0.345600  0.110000\n",
       "75%    368.797500  0.088000  4.687975  0.355700  0.120000\n",
       "max    591.690000  0.088000  6.916900  0.386000  0.150000"
      ]
     },
     "execution_count": 7,
     "metadata": {},
     "output_type": "execute_result"
    }
   ],
   "source": [
    "df.describe()"
   ]
  },
  {
   "cell_type": "code",
   "execution_count": 8,
   "metadata": {
    "scrolled": true
   },
   "outputs": [
    {
     "data": {
      "text/html": [
       "<div>\n",
       "<style scoped>\n",
       "    .dataframe tbody tr th:only-of-type {\n",
       "        vertical-align: middle;\n",
       "    }\n",
       "\n",
       "    .dataframe tbody tr th {\n",
       "        vertical-align: top;\n",
       "    }\n",
       "\n",
       "    .dataframe thead th {\n",
       "        text-align: right;\n",
       "    }\n",
       "</style>\n",
       "<table border=\"1\" class=\"dataframe\">\n",
       "  <thead>\n",
       "    <tr style=\"text-align: right;\">\n",
       "      <th></th>\n",
       "      <th>odds</th>\n",
       "      <th>bet</th>\n",
       "      <th>mult</th>\n",
       "      <th>payout</th>\n",
       "      <th>profit</th>\n",
       "    </tr>\n",
       "  </thead>\n",
       "  <tbody>\n",
       "    <tr>\n",
       "      <th>count</th>\n",
       "      <td>1.0</td>\n",
       "      <td>1.000</td>\n",
       "      <td>1.00</td>\n",
       "      <td>1.0000</td>\n",
       "      <td>1.000</td>\n",
       "    </tr>\n",
       "    <tr>\n",
       "      <th>mean</th>\n",
       "      <td>125.0</td>\n",
       "      <td>0.005</td>\n",
       "      <td>2.25</td>\n",
       "      <td>0.0113</td>\n",
       "      <td>-0.225</td>\n",
       "    </tr>\n",
       "    <tr>\n",
       "      <th>std</th>\n",
       "      <td>NaN</td>\n",
       "      <td>NaN</td>\n",
       "      <td>NaN</td>\n",
       "      <td>NaN</td>\n",
       "      <td>NaN</td>\n",
       "    </tr>\n",
       "    <tr>\n",
       "      <th>min</th>\n",
       "      <td>125.0</td>\n",
       "      <td>0.005</td>\n",
       "      <td>2.25</td>\n",
       "      <td>0.0113</td>\n",
       "      <td>-0.225</td>\n",
       "    </tr>\n",
       "    <tr>\n",
       "      <th>25%</th>\n",
       "      <td>125.0</td>\n",
       "      <td>0.005</td>\n",
       "      <td>2.25</td>\n",
       "      <td>0.0113</td>\n",
       "      <td>-0.225</td>\n",
       "    </tr>\n",
       "    <tr>\n",
       "      <th>50%</th>\n",
       "      <td>125.0</td>\n",
       "      <td>0.005</td>\n",
       "      <td>2.25</td>\n",
       "      <td>0.0113</td>\n",
       "      <td>-0.225</td>\n",
       "    </tr>\n",
       "    <tr>\n",
       "      <th>75%</th>\n",
       "      <td>125.0</td>\n",
       "      <td>0.005</td>\n",
       "      <td>2.25</td>\n",
       "      <td>0.0113</td>\n",
       "      <td>-0.225</td>\n",
       "    </tr>\n",
       "    <tr>\n",
       "      <th>max</th>\n",
       "      <td>125.0</td>\n",
       "      <td>0.005</td>\n",
       "      <td>2.25</td>\n",
       "      <td>0.0113</td>\n",
       "      <td>-0.225</td>\n",
       "    </tr>\n",
       "  </tbody>\n",
       "</table>\n",
       "</div>"
      ],
      "text/plain": [
       "        odds    bet  mult  payout  profit\n",
       "count    1.0  1.000  1.00  1.0000   1.000\n",
       "mean   125.0  0.005  2.25  0.0113  -0.225\n",
       "std      NaN    NaN   NaN     NaN     NaN\n",
       "min    125.0  0.005  2.25  0.0113  -0.225\n",
       "25%    125.0  0.005  2.25  0.0113  -0.225\n",
       "50%    125.0  0.005  2.25  0.0113  -0.225\n",
       "75%    125.0  0.005  2.25  0.0113  -0.225\n",
       "max    125.0  0.005  2.25  0.0113  -0.225"
      ]
     },
     "execution_count": 8,
     "metadata": {},
     "output_type": "execute_result"
    }
   ],
   "source": [
    "negative_df = df.loc[df.profit < 0]\n",
    "negative_df = negative_df.sort_values(by=['event_status', 'profit'], ascending=[False, True])\n",
    "negative_df.describe()"
   ]
  },
  {
   "cell_type": "code",
   "execution_count": 9,
   "metadata": {},
   "outputs": [
    {
     "data": {
      "text/html": [
       "<div>\n",
       "<style scoped>\n",
       "    .dataframe tbody tr th:only-of-type {\n",
       "        vertical-align: middle;\n",
       "    }\n",
       "\n",
       "    .dataframe tbody tr th {\n",
       "        vertical-align: top;\n",
       "    }\n",
       "\n",
       "    .dataframe thead th {\n",
       "        text-align: right;\n",
       "    }\n",
       "</style>\n",
       "<table border=\"1\" class=\"dataframe\">\n",
       "  <thead>\n",
       "    <tr style=\"text-align: right;\">\n",
       "      <th></th>\n",
       "      <th>odds</th>\n",
       "      <th>bet</th>\n",
       "      <th>mult</th>\n",
       "      <th>payout</th>\n",
       "      <th>profit</th>\n",
       "    </tr>\n",
       "  </thead>\n",
       "  <tbody>\n",
       "    <tr>\n",
       "      <th>count</th>\n",
       "      <td>3.000000</td>\n",
       "      <td>3.000000</td>\n",
       "      <td>3.000000</td>\n",
       "      <td>3.000000</td>\n",
       "      <td>3.000000</td>\n",
       "    </tr>\n",
       "    <tr>\n",
       "      <th>mean</th>\n",
       "      <td>393.563333</td>\n",
       "      <td>0.077333</td>\n",
       "      <td>4.935633</td>\n",
       "      <td>0.359067</td>\n",
       "      <td>0.123333</td>\n",
       "    </tr>\n",
       "    <tr>\n",
       "      <th>std</th>\n",
       "      <td>171.582727</td>\n",
       "      <td>0.018475</td>\n",
       "      <td>1.715827</td>\n",
       "      <td>0.023325</td>\n",
       "      <td>0.023094</td>\n",
       "    </tr>\n",
       "    <tr>\n",
       "      <th>min</th>\n",
       "      <td>294.500000</td>\n",
       "      <td>0.056000</td>\n",
       "      <td>3.945000</td>\n",
       "      <td>0.345600</td>\n",
       "      <td>0.110000</td>\n",
       "    </tr>\n",
       "    <tr>\n",
       "      <th>25%</th>\n",
       "      <td>294.500000</td>\n",
       "      <td>0.072000</td>\n",
       "      <td>3.945000</td>\n",
       "      <td>0.345600</td>\n",
       "      <td>0.110000</td>\n",
       "    </tr>\n",
       "    <tr>\n",
       "      <th>50%</th>\n",
       "      <td>294.500000</td>\n",
       "      <td>0.088000</td>\n",
       "      <td>3.945000</td>\n",
       "      <td>0.345600</td>\n",
       "      <td>0.110000</td>\n",
       "    </tr>\n",
       "    <tr>\n",
       "      <th>75%</th>\n",
       "      <td>443.095000</td>\n",
       "      <td>0.088000</td>\n",
       "      <td>5.430950</td>\n",
       "      <td>0.365800</td>\n",
       "      <td>0.130000</td>\n",
       "    </tr>\n",
       "    <tr>\n",
       "      <th>max</th>\n",
       "      <td>591.690000</td>\n",
       "      <td>0.088000</td>\n",
       "      <td>6.916900</td>\n",
       "      <td>0.386000</td>\n",
       "      <td>0.150000</td>\n",
       "    </tr>\n",
       "  </tbody>\n",
       "</table>\n",
       "</div>"
      ],
      "text/plain": [
       "             odds       bet      mult    payout    profit\n",
       "count    3.000000  3.000000  3.000000  3.000000  3.000000\n",
       "mean   393.563333  0.077333  4.935633  0.359067  0.123333\n",
       "std    171.582727  0.018475  1.715827  0.023325  0.023094\n",
       "min    294.500000  0.056000  3.945000  0.345600  0.110000\n",
       "25%    294.500000  0.072000  3.945000  0.345600  0.110000\n",
       "50%    294.500000  0.088000  3.945000  0.345600  0.110000\n",
       "75%    443.095000  0.088000  5.430950  0.365800  0.130000\n",
       "max    591.690000  0.088000  6.916900  0.386000  0.150000"
      ]
     },
     "execution_count": 9,
     "metadata": {},
     "output_type": "execute_result"
    }
   ],
   "source": [
    "positive_df = df.loc[df.profit >= 0]\n",
    "positive_df = positive_df.sort_values(by=['event_status', 'profit'], ascending=[False, False])\n",
    "positive_df.describe()"
   ]
  },
  {
   "cell_type": "code",
   "execution_count": 10,
   "metadata": {},
   "outputs": [
    {
     "data": {
      "text/html": [
       "<div>\n",
       "<style scoped>\n",
       "    .dataframe tbody tr th:only-of-type {\n",
       "        vertical-align: middle;\n",
       "    }\n",
       "\n",
       "    .dataframe tbody tr th {\n",
       "        vertical-align: top;\n",
       "    }\n",
       "\n",
       "    .dataframe thead th {\n",
       "        text-align: right;\n",
       "    }\n",
       "</style>\n",
       "<table border=\"1\" class=\"dataframe\">\n",
       "  <thead>\n",
       "    <tr style=\"text-align: right;\">\n",
       "      <th></th>\n",
       "      <th>event</th>\n",
       "      <th>index[]</th>\n",
       "      <th>result</th>\n",
       "      <th>event_status</th>\n",
       "      <th>odds</th>\n",
       "      <th>bet</th>\n",
       "      <th>mult</th>\n",
       "      <th>payout</th>\n",
       "      <th>profit</th>\n",
       "    </tr>\n",
       "  </thead>\n",
       "  <tbody>\n",
       "    <tr>\n",
       "      <th>3</th>\n",
       "      <td>ska_akbars</td>\n",
       "      <td>[1, 3]</td>\n",
       "      <td>[1, 1]</td>\n",
       "      <td>True</td>\n",
       "      <td>125.0</td>\n",
       "      <td>0.005</td>\n",
       "      <td>2.25</td>\n",
       "      <td>0.0113</td>\n",
       "      <td>-0.225</td>\n",
       "    </tr>\n",
       "  </tbody>\n",
       "</table>\n",
       "</div>"
      ],
      "text/plain": [
       "        event index[]  result  event_status   odds    bet  mult  payout  profit\n",
       "3  ska_akbars  [1, 3]  [1, 1]          True  125.0  0.005  2.25  0.0113  -0.225"
      ]
     },
     "execution_count": 10,
     "metadata": {},
     "output_type": "execute_result"
    }
   ],
   "source": [
    "negative_df.head(200)"
   ]
  },
  {
   "cell_type": "code",
   "execution_count": 11,
   "metadata": {},
   "outputs": [
    {
     "data": {
      "text/html": [
       "<div>\n",
       "<style scoped>\n",
       "    .dataframe tbody tr th:only-of-type {\n",
       "        vertical-align: middle;\n",
       "    }\n",
       "\n",
       "    .dataframe tbody tr th {\n",
       "        vertical-align: top;\n",
       "    }\n",
       "\n",
       "    .dataframe thead th {\n",
       "        text-align: right;\n",
       "    }\n",
       "</style>\n",
       "<table border=\"1\" class=\"dataframe\">\n",
       "  <thead>\n",
       "    <tr style=\"text-align: right;\">\n",
       "      <th></th>\n",
       "      <th>event</th>\n",
       "      <th>index[]</th>\n",
       "      <th>result</th>\n",
       "      <th>event_status</th>\n",
       "      <th>odds</th>\n",
       "      <th>bet</th>\n",
       "      <th>mult</th>\n",
       "      <th>payout</th>\n",
       "      <th>profit</th>\n",
       "    </tr>\n",
       "  </thead>\n",
       "  <tbody>\n",
       "    <tr>\n",
       "      <th>0</th>\n",
       "      <td>barys_neftekhimik</td>\n",
       "      <td>[0, 2]</td>\n",
       "      <td>[0, 0]</td>\n",
       "      <td>False</td>\n",
       "      <td>591.69</td>\n",
       "      <td>0.056</td>\n",
       "      <td>6.9169</td>\n",
       "      <td>0.3860</td>\n",
       "      <td>0.15</td>\n",
       "    </tr>\n",
       "    <tr>\n",
       "      <th>1</th>\n",
       "      <td>barys_akbars</td>\n",
       "      <td>[0, 3]</td>\n",
       "      <td>[0, 1]</td>\n",
       "      <td>False</td>\n",
       "      <td>294.50</td>\n",
       "      <td>0.088</td>\n",
       "      <td>3.9450</td>\n",
       "      <td>0.3456</td>\n",
       "      <td>0.11</td>\n",
       "    </tr>\n",
       "    <tr>\n",
       "      <th>2</th>\n",
       "      <td>ska_neftekhimik</td>\n",
       "      <td>[1, 2]</td>\n",
       "      <td>[1, 0]</td>\n",
       "      <td>False</td>\n",
       "      <td>294.50</td>\n",
       "      <td>0.088</td>\n",
       "      <td>3.9450</td>\n",
       "      <td>0.3456</td>\n",
       "      <td>0.11</td>\n",
       "    </tr>\n",
       "  </tbody>\n",
       "</table>\n",
       "</div>"
      ],
      "text/plain": [
       "               event index[]  result  event_status    odds    bet    mult  payout  profit\n",
       "0  barys_neftekhimik  [0, 2]  [0, 0]         False  591.69  0.056  6.9169  0.3860    0.15\n",
       "1       barys_akbars  [0, 3]  [0, 1]         False  294.50  0.088  3.9450  0.3456    0.11\n",
       "2    ska_neftekhimik  [1, 2]  [1, 0]         False  294.50  0.088  3.9450  0.3456    0.11"
      ]
     },
     "execution_count": 11,
     "metadata": {},
     "output_type": "execute_result"
    }
   ],
   "source": [
    "positive_df.head(200)"
   ]
  },
  {
   "cell_type": "code",
   "execution_count": 12,
   "metadata": {},
   "outputs": [
    {
     "data": {
      "text/html": [
       "<div>\n",
       "<style scoped>\n",
       "    .dataframe tbody tr th:only-of-type {\n",
       "        vertical-align: middle;\n",
       "    }\n",
       "\n",
       "    .dataframe tbody tr th {\n",
       "        vertical-align: top;\n",
       "    }\n",
       "\n",
       "    .dataframe thead th {\n",
       "        text-align: right;\n",
       "    }\n",
       "</style>\n",
       "<table border=\"1\" class=\"dataframe\">\n",
       "  <thead>\n",
       "    <tr style=\"text-align: right;\">\n",
       "      <th></th>\n",
       "      <th>event</th>\n",
       "      <th>index[]</th>\n",
       "      <th>result</th>\n",
       "      <th>odds</th>\n",
       "      <th>bet</th>\n",
       "      <th>mult</th>\n",
       "      <th>payout</th>\n",
       "      <th>profit</th>\n",
       "    </tr>\n",
       "    <tr>\n",
       "      <th>event_status</th>\n",
       "      <th></th>\n",
       "      <th></th>\n",
       "      <th></th>\n",
       "      <th></th>\n",
       "      <th></th>\n",
       "      <th></th>\n",
       "      <th></th>\n",
       "      <th></th>\n",
       "    </tr>\n",
       "  </thead>\n",
       "  <tbody>\n",
       "    <tr>\n",
       "      <th>False</th>\n",
       "      <td>3</td>\n",
       "      <td>3</td>\n",
       "      <td>3</td>\n",
       "      <td>3</td>\n",
       "      <td>3</td>\n",
       "      <td>3</td>\n",
       "      <td>3</td>\n",
       "      <td>3</td>\n",
       "    </tr>\n",
       "  </tbody>\n",
       "</table>\n",
       "</div>"
      ],
      "text/plain": [
       "              event  index[]  result  odds  bet  mult  payout  profit\n",
       "event_status                                                         \n",
       "False             3        3       3     3    3     3       3       3"
      ]
     },
     "execution_count": 12,
     "metadata": {},
     "output_type": "execute_result"
    }
   ],
   "source": [
    "positive_df.groupby('event_status').count()"
   ]
  },
  {
   "cell_type": "code",
   "execution_count": 13,
   "metadata": {},
   "outputs": [
    {
     "data": {
      "text/html": [
       "<div>\n",
       "<style scoped>\n",
       "    .dataframe tbody tr th:only-of-type {\n",
       "        vertical-align: middle;\n",
       "    }\n",
       "\n",
       "    .dataframe tbody tr th {\n",
       "        vertical-align: top;\n",
       "    }\n",
       "\n",
       "    .dataframe thead th {\n",
       "        text-align: right;\n",
       "    }\n",
       "</style>\n",
       "<table border=\"1\" class=\"dataframe\">\n",
       "  <thead>\n",
       "    <tr style=\"text-align: right;\">\n",
       "      <th></th>\n",
       "      <th>event</th>\n",
       "      <th>index[]</th>\n",
       "      <th>result</th>\n",
       "      <th>odds</th>\n",
       "      <th>bet</th>\n",
       "      <th>mult</th>\n",
       "      <th>payout</th>\n",
       "      <th>profit</th>\n",
       "    </tr>\n",
       "    <tr>\n",
       "      <th>event_status</th>\n",
       "      <th></th>\n",
       "      <th></th>\n",
       "      <th></th>\n",
       "      <th></th>\n",
       "      <th></th>\n",
       "      <th></th>\n",
       "      <th></th>\n",
       "      <th></th>\n",
       "    </tr>\n",
       "  </thead>\n",
       "  <tbody>\n",
       "    <tr>\n",
       "      <th>True</th>\n",
       "      <td>1</td>\n",
       "      <td>1</td>\n",
       "      <td>1</td>\n",
       "      <td>1</td>\n",
       "      <td>1</td>\n",
       "      <td>1</td>\n",
       "      <td>1</td>\n",
       "      <td>1</td>\n",
       "    </tr>\n",
       "  </tbody>\n",
       "</table>\n",
       "</div>"
      ],
      "text/plain": [
       "              event  index[]  result  odds  bet  mult  payout  profit\n",
       "event_status                                                         \n",
       "True              1        1       1     1    1     1       1       1"
      ]
     },
     "execution_count": 13,
     "metadata": {},
     "output_type": "execute_result"
    }
   ],
   "source": [
    "negative_df.groupby('event_status').count()"
   ]
  },
  {
   "cell_type": "code",
   "execution_count": 14,
   "metadata": {},
   "outputs": [
    {
     "data": {
      "text/html": [
       "<style  type=\"text/css\" >\n",
       "    #T_f223eee4_25e1_11ea_94ec_acde48001122row0_col0 {\n",
       "            color:  black;\n",
       "        }    #T_f223eee4_25e1_11ea_94ec_acde48001122row0_col1 {\n",
       "            color:  black;\n",
       "        }    #T_f223eee4_25e1_11ea_94ec_acde48001122row0_col2 {\n",
       "            color:  black;\n",
       "        }    #T_f223eee4_25e1_11ea_94ec_acde48001122row0_col3 {\n",
       "            color:  red;\n",
       "        }    #T_f223eee4_25e1_11ea_94ec_acde48001122row0_col4 {\n",
       "            color:  black;\n",
       "        }    #T_f223eee4_25e1_11ea_94ec_acde48001122row0_col5 {\n",
       "            color:  black;\n",
       "        }    #T_f223eee4_25e1_11ea_94ec_acde48001122row0_col6 {\n",
       "            color:  black;\n",
       "        }    #T_f223eee4_25e1_11ea_94ec_acde48001122row0_col7 {\n",
       "            color:  black;\n",
       "        }    #T_f223eee4_25e1_11ea_94ec_acde48001122row0_col8 {\n",
       "            color:  black;\n",
       "        }</style><table id=\"T_f223eee4_25e1_11ea_94ec_acde48001122\" ><thead>    <tr>        <th class=\"blank level0\" ></th>        <th class=\"col_heading level0 col0\" >event</th>        <th class=\"col_heading level0 col1\" >index[]</th>        <th class=\"col_heading level0 col2\" >result</th>        <th class=\"col_heading level0 col3\" >event_status</th>        <th class=\"col_heading level0 col4\" >odds</th>        <th class=\"col_heading level0 col5\" >bet</th>        <th class=\"col_heading level0 col6\" >mult</th>        <th class=\"col_heading level0 col7\" >payout</th>        <th class=\"col_heading level0 col8\" >profit</th>    </tr></thead><tbody>\n",
       "                <tr>\n",
       "                        <th id=\"T_f223eee4_25e1_11ea_94ec_acde48001122level0_row0\" class=\"row_heading level0 row0\" >0</th>\n",
       "                        <td id=\"T_f223eee4_25e1_11ea_94ec_acde48001122row0_col0\" class=\"data row0 col0\" >ska_akbars</td>\n",
       "                        <td id=\"T_f223eee4_25e1_11ea_94ec_acde48001122row0_col1\" class=\"data row0 col1\" >['1', '3']</td>\n",
       "                        <td id=\"T_f223eee4_25e1_11ea_94ec_acde48001122row0_col2\" class=\"data row0 col2\" >[1, 1]</td>\n",
       "                        <td id=\"T_f223eee4_25e1_11ea_94ec_acde48001122row0_col3\" class=\"data row0 col3\" >True</td>\n",
       "                        <td id=\"T_f223eee4_25e1_11ea_94ec_acde48001122row0_col4\" class=\"data row0 col4\" >125</td>\n",
       "                        <td id=\"T_f223eee4_25e1_11ea_94ec_acde48001122row0_col5\" class=\"data row0 col5\" >0.005</td>\n",
       "                        <td id=\"T_f223eee4_25e1_11ea_94ec_acde48001122row0_col6\" class=\"data row0 col6\" >2.25</td>\n",
       "                        <td id=\"T_f223eee4_25e1_11ea_94ec_acde48001122row0_col7\" class=\"data row0 col7\" >0.0113</td>\n",
       "                        <td id=\"T_f223eee4_25e1_11ea_94ec_acde48001122row0_col8\" class=\"data row0 col8\" >-0.225</td>\n",
       "            </tr>\n",
       "    </tbody></table>"
      ],
      "text/plain": [
       "<pandas.io.formats.style.Styler at 0x10be519d0>"
      ]
     },
     "execution_count": 14,
     "metadata": {},
     "output_type": "execute_result"
    }
   ],
   "source": [
    "neg = negative_df.reset_index(drop=True).style.applymap(color_negative_red)\n",
    "neg"
   ]
  },
  {
   "cell_type": "code",
   "execution_count": 15,
   "metadata": {},
   "outputs": [
    {
     "data": {
      "text/html": [
       "<style  type=\"text/css\" >\n",
       "    #T_f225ce80_25e1_11ea_94ec_acde48001122row0_col0 {\n",
       "            color:  black;\n",
       "        }    #T_f225ce80_25e1_11ea_94ec_acde48001122row0_col1 {\n",
       "            color:  black;\n",
       "        }    #T_f225ce80_25e1_11ea_94ec_acde48001122row0_col2 {\n",
       "            color:  black;\n",
       "        }    #T_f225ce80_25e1_11ea_94ec_acde48001122row0_col3 {\n",
       "            color:  black;\n",
       "        }    #T_f225ce80_25e1_11ea_94ec_acde48001122row0_col4 {\n",
       "            color:  black;\n",
       "        }    #T_f225ce80_25e1_11ea_94ec_acde48001122row0_col5 {\n",
       "            color:  black;\n",
       "        }    #T_f225ce80_25e1_11ea_94ec_acde48001122row0_col6 {\n",
       "            color:  black;\n",
       "        }    #T_f225ce80_25e1_11ea_94ec_acde48001122row0_col7 {\n",
       "            color:  black;\n",
       "        }    #T_f225ce80_25e1_11ea_94ec_acde48001122row0_col8 {\n",
       "            color:  black;\n",
       "        }    #T_f225ce80_25e1_11ea_94ec_acde48001122row1_col0 {\n",
       "            color:  black;\n",
       "        }    #T_f225ce80_25e1_11ea_94ec_acde48001122row1_col1 {\n",
       "            color:  black;\n",
       "        }    #T_f225ce80_25e1_11ea_94ec_acde48001122row1_col2 {\n",
       "            color:  black;\n",
       "        }    #T_f225ce80_25e1_11ea_94ec_acde48001122row1_col3 {\n",
       "            color:  black;\n",
       "        }    #T_f225ce80_25e1_11ea_94ec_acde48001122row1_col4 {\n",
       "            color:  black;\n",
       "        }    #T_f225ce80_25e1_11ea_94ec_acde48001122row1_col5 {\n",
       "            color:  black;\n",
       "        }    #T_f225ce80_25e1_11ea_94ec_acde48001122row1_col6 {\n",
       "            color:  black;\n",
       "        }    #T_f225ce80_25e1_11ea_94ec_acde48001122row1_col7 {\n",
       "            color:  black;\n",
       "        }    #T_f225ce80_25e1_11ea_94ec_acde48001122row1_col8 {\n",
       "            color:  black;\n",
       "        }    #T_f225ce80_25e1_11ea_94ec_acde48001122row2_col0 {\n",
       "            color:  black;\n",
       "        }    #T_f225ce80_25e1_11ea_94ec_acde48001122row2_col1 {\n",
       "            color:  black;\n",
       "        }    #T_f225ce80_25e1_11ea_94ec_acde48001122row2_col2 {\n",
       "            color:  black;\n",
       "        }    #T_f225ce80_25e1_11ea_94ec_acde48001122row2_col3 {\n",
       "            color:  black;\n",
       "        }    #T_f225ce80_25e1_11ea_94ec_acde48001122row2_col4 {\n",
       "            color:  black;\n",
       "        }    #T_f225ce80_25e1_11ea_94ec_acde48001122row2_col5 {\n",
       "            color:  black;\n",
       "        }    #T_f225ce80_25e1_11ea_94ec_acde48001122row2_col6 {\n",
       "            color:  black;\n",
       "        }    #T_f225ce80_25e1_11ea_94ec_acde48001122row2_col7 {\n",
       "            color:  black;\n",
       "        }    #T_f225ce80_25e1_11ea_94ec_acde48001122row2_col8 {\n",
       "            color:  black;\n",
       "        }</style><table id=\"T_f225ce80_25e1_11ea_94ec_acde48001122\" ><thead>    <tr>        <th class=\"blank level0\" ></th>        <th class=\"col_heading level0 col0\" >event</th>        <th class=\"col_heading level0 col1\" >index[]</th>        <th class=\"col_heading level0 col2\" >result</th>        <th class=\"col_heading level0 col3\" >event_status</th>        <th class=\"col_heading level0 col4\" >odds</th>        <th class=\"col_heading level0 col5\" >bet</th>        <th class=\"col_heading level0 col6\" >mult</th>        <th class=\"col_heading level0 col7\" >payout</th>        <th class=\"col_heading level0 col8\" >profit</th>    </tr></thead><tbody>\n",
       "                <tr>\n",
       "                        <th id=\"T_f225ce80_25e1_11ea_94ec_acde48001122level0_row0\" class=\"row_heading level0 row0\" >0</th>\n",
       "                        <td id=\"T_f225ce80_25e1_11ea_94ec_acde48001122row0_col0\" class=\"data row0 col0\" >barys_neftekhimik</td>\n",
       "                        <td id=\"T_f225ce80_25e1_11ea_94ec_acde48001122row0_col1\" class=\"data row0 col1\" >['0', '2']</td>\n",
       "                        <td id=\"T_f225ce80_25e1_11ea_94ec_acde48001122row0_col2\" class=\"data row0 col2\" >[0, 0]</td>\n",
       "                        <td id=\"T_f225ce80_25e1_11ea_94ec_acde48001122row0_col3\" class=\"data row0 col3\" >False</td>\n",
       "                        <td id=\"T_f225ce80_25e1_11ea_94ec_acde48001122row0_col4\" class=\"data row0 col4\" >591.69</td>\n",
       "                        <td id=\"T_f225ce80_25e1_11ea_94ec_acde48001122row0_col5\" class=\"data row0 col5\" >0.056</td>\n",
       "                        <td id=\"T_f225ce80_25e1_11ea_94ec_acde48001122row0_col6\" class=\"data row0 col6\" >6.9169</td>\n",
       "                        <td id=\"T_f225ce80_25e1_11ea_94ec_acde48001122row0_col7\" class=\"data row0 col7\" >0.386</td>\n",
       "                        <td id=\"T_f225ce80_25e1_11ea_94ec_acde48001122row0_col8\" class=\"data row0 col8\" >0.15</td>\n",
       "            </tr>\n",
       "            <tr>\n",
       "                        <th id=\"T_f225ce80_25e1_11ea_94ec_acde48001122level0_row1\" class=\"row_heading level0 row1\" >1</th>\n",
       "                        <td id=\"T_f225ce80_25e1_11ea_94ec_acde48001122row1_col0\" class=\"data row1 col0\" >barys_akbars</td>\n",
       "                        <td id=\"T_f225ce80_25e1_11ea_94ec_acde48001122row1_col1\" class=\"data row1 col1\" >['0', '3']</td>\n",
       "                        <td id=\"T_f225ce80_25e1_11ea_94ec_acde48001122row1_col2\" class=\"data row1 col2\" >[0, 1]</td>\n",
       "                        <td id=\"T_f225ce80_25e1_11ea_94ec_acde48001122row1_col3\" class=\"data row1 col3\" >False</td>\n",
       "                        <td id=\"T_f225ce80_25e1_11ea_94ec_acde48001122row1_col4\" class=\"data row1 col4\" >294.5</td>\n",
       "                        <td id=\"T_f225ce80_25e1_11ea_94ec_acde48001122row1_col5\" class=\"data row1 col5\" >0.088</td>\n",
       "                        <td id=\"T_f225ce80_25e1_11ea_94ec_acde48001122row1_col6\" class=\"data row1 col6\" >3.945</td>\n",
       "                        <td id=\"T_f225ce80_25e1_11ea_94ec_acde48001122row1_col7\" class=\"data row1 col7\" >0.3456</td>\n",
       "                        <td id=\"T_f225ce80_25e1_11ea_94ec_acde48001122row1_col8\" class=\"data row1 col8\" >0.11</td>\n",
       "            </tr>\n",
       "            <tr>\n",
       "                        <th id=\"T_f225ce80_25e1_11ea_94ec_acde48001122level0_row2\" class=\"row_heading level0 row2\" >2</th>\n",
       "                        <td id=\"T_f225ce80_25e1_11ea_94ec_acde48001122row2_col0\" class=\"data row2 col0\" >ska_neftekhimik</td>\n",
       "                        <td id=\"T_f225ce80_25e1_11ea_94ec_acde48001122row2_col1\" class=\"data row2 col1\" >['1', '2']</td>\n",
       "                        <td id=\"T_f225ce80_25e1_11ea_94ec_acde48001122row2_col2\" class=\"data row2 col2\" >[1, 0]</td>\n",
       "                        <td id=\"T_f225ce80_25e1_11ea_94ec_acde48001122row2_col3\" class=\"data row2 col3\" >False</td>\n",
       "                        <td id=\"T_f225ce80_25e1_11ea_94ec_acde48001122row2_col4\" class=\"data row2 col4\" >294.5</td>\n",
       "                        <td id=\"T_f225ce80_25e1_11ea_94ec_acde48001122row2_col5\" class=\"data row2 col5\" >0.088</td>\n",
       "                        <td id=\"T_f225ce80_25e1_11ea_94ec_acde48001122row2_col6\" class=\"data row2 col6\" >3.945</td>\n",
       "                        <td id=\"T_f225ce80_25e1_11ea_94ec_acde48001122row2_col7\" class=\"data row2 col7\" >0.3456</td>\n",
       "                        <td id=\"T_f225ce80_25e1_11ea_94ec_acde48001122row2_col8\" class=\"data row2 col8\" >0.11</td>\n",
       "            </tr>\n",
       "    </tbody></table>"
      ],
      "text/plain": [
       "<pandas.io.formats.style.Styler at 0x11ef2f550>"
      ]
     },
     "execution_count": 15,
     "metadata": {},
     "output_type": "execute_result"
    }
   ],
   "source": [
    "pos = positive_df.reset_index(drop=True).style.applymap(color_positive_green)\n",
    "pos"
   ]
  },
  {
   "cell_type": "code",
   "execution_count": 16,
   "metadata": {},
   "outputs": [
    {
     "name": "stdout",
     "output_type": "stream",
     "text": [
      "    event  bet_amount  odds  multiplier  payout\n",
      "0  parlay         100  1002       11.02  1102.0\n"
     ]
    }
   ],
   "source": [
    "sf49ers = MoneyLine(event=\"parlay\", bet_amount=100, odds=1002)\n",
    "sf49ers.print_stats()"
   ]
  },
  {
   "cell_type": "code",
   "execution_count": 17,
   "metadata": {},
   "outputs": [
    {
     "name": "stdout",
     "output_type": "stream",
     "text": [
      "  event  bet_amount  odds  multiplier      payout\n",
      "0   pos         100 -1020    1.098039  109.803922\n"
     ]
    }
   ],
   "source": [
    "pos = MoneyLine(event=\"pos\", bet_amount=100, odds=-1020)\n",
    "pos.print_stats()"
   ]
  },
  {
   "cell_type": "code",
   "execution_count": 18,
   "metadata": {},
   "outputs": [
    {
     "name": "stdout",
     "output_type": "stream",
     "text": [
      "  event  bet_amount  odds  multiplier    payout\n",
      "0   neg         1.0  -305    1.327869  1.327869\n"
     ]
    }
   ],
   "source": [
    "neg = MoneyLine(event=\"neg\", bet_amount=1.0, odds=-305)\n",
    "neg.print_stats()"
   ]
  },
  {
   "cell_type": "code",
   "execution_count": 19,
   "metadata": {},
   "outputs": [
    {
     "name": "stdout",
     "output_type": "stream",
     "text": [
      "  event  bet_amount  odds  multiplier    payout\n",
      "0   neg         1.0  -285    1.350877  1.350877\n"
     ]
    }
   ],
   "source": [
    "neg = MoneyLine(event=\"neg\", bet_amount=1.0, odds=-285)\n",
    "neg.print_stats()"
   ]
  },
  {
   "cell_type": "code",
   "execution_count": null,
   "metadata": {},
   "outputs": [],
   "source": []
  }
 ],
 "metadata": {
  "kernelspec": {
   "display_name": "Python 3",
   "language": "python",
   "name": "python3"
  },
  "language_info": {
   "codemirror_mode": {
    "name": "ipython",
    "version": 3
   },
   "file_extension": ".py",
   "mimetype": "text/x-python",
   "name": "python",
   "nbconvert_exporter": "python",
   "pygments_lexer": "ipython3",
   "version": "3.7.5"
  }
 },
 "nbformat": 4,
 "nbformat_minor": 2
}
